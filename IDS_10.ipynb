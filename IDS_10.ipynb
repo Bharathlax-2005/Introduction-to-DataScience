{
 "cells": [
  {
   "cell_type": "code",
   "execution_count": null,
   "id": "7a9d3975-f68f-4ef4-a55a-3340f394fc61",
   "metadata": {},
   "outputs": [],
   "source": [
    "'''Ex.No:10 Recommender system\n",
    "REG:URK22AI1030\n",
    "\n",
    "Aim:\n",
    "\n",
    "To design a content-based recommender system using python programming\n",
    "\n",
    "Description\n",
    "\n",
    "Recommender systems are among the most popular applications of data\n",
    "science today. There are a lot of applications where websites collect data from their\n",
    "users and use that data to predict the likes and dislikes of their users. This allows\n",
    "them to recommend the content that they like. Recommender System is a software\n",
    "system that provides specific suggestions to users according to their preferences.\n",
    "These techniques may provide decision-making capabilities to the user. Items refer to\n",
    "any product that the recommender system suggests to its user like movies, music,\n",
    "news, travel packages, e-commerce products, etc.\n",
    "\n",
    "Content-based recommenders Suggest similar items based on a particular\n",
    "item. This system uses item metadata, such as genre, director, description, actors,\n",
    "etc. for movies, to make these recommendations. And to recommend that, it will\n",
    "make use of the user&amp; past item metadata. A good example could be YouTube,\n",
    "where based on the history, it suggests new videos that can be potentially watched.'''"
   ]
  },
  {
   "cell_type": "code",
   "execution_count": 1,
   "id": "6a343bab-1ab9-417d-b3b3-e188003a664f",
   "metadata": {},
   "outputs": [],
   "source": [
    "import pandas as pd\n",
    "from sklearn.feature_extraction.text import TfidfVectorizer\n",
    "from sklearn.metrics.pairwise import cosine_similarity"
   ]
  },
  {
   "cell_type": "code",
   "execution_count": 2,
   "id": "a33bc3fa-1817-487a-a5fc-77e171bc1fdf",
   "metadata": {},
   "outputs": [],
   "source": [
    "data = pd.read_csv('shop (2) - shop (2).csv')"
   ]
  },
  {
   "cell_type": "code",
   "execution_count": 3,
   "id": "163d1a57-3a1a-41b8-8cde-bcd89a5ab776",
   "metadata": {},
   "outputs": [],
   "source": [
    "data['product'] = data['product'].str.strip()"
   ]
  },
  {
   "cell_type": "code",
   "execution_count": 4,
   "id": "89b05c7a-5c66-470b-ba17-ad91da318372",
   "metadata": {},
   "outputs": [],
   "source": [
    "tfidf = TfidfVectorizer(stop_words='english')\n",
    "tfidf_matrix = tfidf.fit_transform(data['product'])"
   ]
  },
  {
   "cell_type": "code",
   "execution_count": 5,
   "id": "abc71906-aa6f-4de4-bdd4-c1e0187f0e05",
   "metadata": {},
   "outputs": [],
   "source": [
    "cosine_sim = cosine_similarity(tfidf_matrix, tfidf_matrix)"
   ]
  },
  {
   "cell_type": "code",
   "execution_count": 6,
   "id": "e6ff226d-a03b-47c4-9e53-6c6eb24a25ba",
   "metadata": {},
   "outputs": [],
   "source": [
    "def recommend_courses(input_title, n):\n",
    "    if input_title not in data['product'].values:\n",
    "        return \"Course not found. Please enter a valid course title.\"\n",
    "    idx = data[data['product'] == input_title].index[0]\n",
    "    sim_scores = list(enumerate(cosine_sim[idx]))\n",
    "    sim_scores = sorted(sim_scores, key=lambda x: x[1], reverse=True)\n",
    "    top_n = sim_scores[1:n+1]  # Exclude the input course itself\n",
    "    recommendations = [data.iloc[i[0]]['product'] for i in top_n]\n",
    "    return recommendations"
   ]
  },
  {
   "cell_type": "code",
   "execution_count": 9,
   "id": "3556f58a-bef7-4858-9425-598b6b4089ef",
   "metadata": {},
   "outputs": [
    {
     "name": "stdout",
     "output_type": "stream",
     "text": [
      "Enter a PRODUCT:  Active classic boxers\n",
      "Enter the number of recommendations:  1\n"
     ]
    },
    {
     "name": "stdout",
     "output_type": "stream",
     "text": [
      "Top 1 course suggestions for 'Active classic boxers':\n",
      "1. Active classic cami\n"
     ]
    }
   ],
   "source": [
    "input_title = input(\"Enter a PRODUCT: \")\n",
    "num_recommendations = int(input(\"Enter the number of recommendations: \"))\n",
    "recommended_courses = recommend_courses(input_title, num_recommendations)\n",
    "if isinstance(recommended_courses, str):\n",
    "    print(recommended_courses)\n",
    "else:\n",
    "    print(f\"Top {num_recommendations} course suggestions for '{input_title}':\")\n",
    "    for i, course in enumerate(recommended_courses):\n",
    "        print(f\"{i+1}. {course}\")"
   ]
  },
  {
   "cell_type": "code",
   "execution_count": null,
   "id": "66f6824f-8dfb-493b-aa05-9f9cb2b7ec48",
   "metadata": {},
   "outputs": [],
   "source": [
    "'''Result:\n",
    "To design a content-based recommender system using python programming\n",
    "IS EXECUTED SUCCESSFULLY.\n",
    "\n",
    "'''"
   ]
  }
 ],
 "metadata": {
  "kernelspec": {
   "display_name": "Python 3 (ipykernel)",
   "language": "python",
   "name": "python3"
  },
  "language_info": {
   "codemirror_mode": {
    "name": "ipython",
    "version": 3
   },
   "file_extension": ".py",
   "mimetype": "text/x-python",
   "name": "python",
   "nbconvert_exporter": "python",
   "pygments_lexer": "ipython3",
   "version": "3.11.6"
  }
 },
 "nbformat": 4,
 "nbformat_minor": 5
}
