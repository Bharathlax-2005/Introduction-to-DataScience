{
 "cells": [
  {
   "cell_type": "code",
   "execution_count": null,
   "id": "61ab2460-6ffc-4739-9e64-928acd98d6e4",
   "metadata": {
    "tags": []
   },
   "outputs": [],
   "source": [
    " #EXP:2                 #WORKING WITH DATA USING PANDAS           #URK22AI1030\n",
    " #DATE:18/12/23                                                   #BHARATH KUMAR S"
   ]
  },
  {
   "cell_type": "markdown",
   "id": "df06ced8-7400-43a3-bb21-69dadc0e00b2",
   "metadata": {
    "tags": []
   },
   "source": [
    "BHARATH KUMAR ------ URK22AI1030"
   ]
  },
  {
   "cell_type": "code",
   "execution_count": 1,
   "id": "41e3eb12-acb1-4096-be3c-686f444002e2",
   "metadata": {
    "tags": []
   },
   "outputs": [],
   "source": [
    "#QUESTION:\n",
    "\n",
    "#Common\n",
    "#Name = [‘Joe’, ‘jim’, ‘raj’, ‘anand’, ‘uday’]\n",
    "#Age = [26,29,32,18,22]\n",
    "#Height = [162, 158, 180, 173, 170]\n",
    "#Weight = [78, 84, 97, 92, 84]\n",
    "    #1. Create a DataFrame with the data above\n",
    "    #2. Create DataFrame from series. dictionaryDictionary : PurchasePurchase = {‘p_item’:[‘Mac_book’, ‘Hp-Envy360’, ‘Dell_inspiron’,’Samsung _Galaxy‘]\n",
    "    #customer’:[‘Neethu’,’Jeevan’,’Harsh’,’Adyant’],\n",
    "    #‘city’=[‘Chennai’, ‘Delhi’,’Mumbai’,’Hydrabad’]}\n",
    "    #3. What is the name of the first column?\n",
    "    #4. Sort the DataFrame by city in descending order (check the documentation for sort)\n",
    "    #5. Which customer is in the last row of the DataFrame?\n",
    "    #6. Reorder the columns with the customer in the first column"
   ]
  },
  {
   "cell_type": "code",
   "execution_count": 3,
   "id": "330fa593-0bcd-481d-b954-7ae8c7303698",
   "metadata": {
    "tags": []
   },
   "outputs": [],
   "source": [
    "#URK22AI1030\n",
    "\n",
    "#AIM: \n",
    "    #Data Manipulation with Pandas\n",
    "\n",
    "#Description:\n",
    "\n",
    "   #1- DataFrame Creation:\n",
    "        #Generate a Pandas DataFrame using provided data for 'Name,' 'Age,' 'Height,' and 'Weight.'\n",
    "   #2- Series to DataFrame:\n",
    "        #Convert the 'Purchase' dictionary into a DataFrame with columns: 'p_item,' 'customer,' and 'city.'\n",
    "   #3- Identify First Column:\n",
    "        #Determine and display the name of the first column in the DataFrame.\n",
    "   #4- Sort by City:\n",
    "        #Utilize DataFrame sorting methods to arrange the data in descending order based on the 'city' column \n",
    "   #5- Last Row Customer:\n",
    "        #Retrieve and display the customer present in the last row of the DataFrame.\n",
    "   #6- Reorder Columns:\n",
    "        #Reorganize the columns, placing the 'customer' column at the beginning of the DataFrame."
   ]
  },
  {
   "cell_type": "code",
   "execution_count": 2,
   "id": "643a7ee0-b386-473c-b445-6a6bb769f17e",
   "metadata": {
    "tags": []
   },
   "outputs": [
    {
     "name": "stdout",
     "output_type": "stream",
     "text": [
      "    Name  Age  Height  Weight\n",
      "0    Joe   26     162      78\n",
      "1    Jim   29     158      84\n",
      "2    Raj   32     180      97\n",
      "3  Anand   18     173      92\n",
      "4   Uday   22     170      84\n"
     ]
    }
   ],
   "source": [
    "#1\n",
    "import pandas as pd\n",
    "\n",
    "data = {\n",
    "    'Name': ['Joe', 'Jim', 'Raj', 'Anand', 'Uday'],\n",
    "    'Age': [26, 29, 32, 18, 22],\n",
    "    'Height': [162, 158, 180, 173, 170],\n",
    "    'Weight': [78, 84, 97, 92, 84]\n",
    "}\n",
    "\n",
    "df = pd.DataFrame(data)\n",
    "print(df)\n"
   ]
  },
  {
   "cell_type": "code",
   "execution_count": 3,
   "id": "ef0e9151-0791-4027-b2db-a7148df76d1f",
   "metadata": {
    "tags": []
   },
   "outputs": [
    {
     "name": "stdout",
     "output_type": "stream",
     "text": [
      "           p_item customer       city\n",
      "0        Mac_book   Neethu    Chennai\n",
      "1      Hp-Envy360   Jeevan      Delhi\n",
      "2   Dell_inspiron    Harsh     Mumbai\n",
      "3  Samsung_Galaxy   Adyant  Hyderabad\n"
     ]
    }
   ],
   "source": [
    "#2\n",
    "purchase_data = {\n",
    "    'p_item': ['Mac_book', 'Hp-Envy360', 'Dell_inspiron', 'Samsung_Galaxy'],\n",
    "    'customer': ['Neethu', 'Jeevan', 'Harsh', 'Adyant'],\n",
    "    'city': ['Chennai', 'Delhi', 'Mumbai', 'Hyderabad']\n",
    "}\n",
    "\n",
    "purchase_df = pd.DataFrame(purchase_data)\n",
    "print(purchase_df)\n"
   ]
  },
  {
   "cell_type": "code",
   "execution_count": 4,
   "id": "29e5ea33-eb40-4bca-b038-fb849689552e",
   "metadata": {
    "tags": []
   },
   "outputs": [
    {
     "name": "stdout",
     "output_type": "stream",
     "text": [
      "           p_item customer       city\n",
      "2   Dell_inspiron    Harsh     Mumbai\n",
      "3  Samsung_Galaxy   Adyant  Hyderabad\n",
      "1      Hp-Envy360   Jeevan      Delhi\n",
      "0        Mac_book   Neethu    Chennai\n"
     ]
    }
   ],
   "source": [
    "#3\n",
    "sorted_purchase_df = purchase_df.sort_values(by='city', ascending=False)\n",
    "print(sorted_purchase_df)\n"
   ]
  },
  {
   "cell_type": "code",
   "execution_count": 5,
   "id": "c9543096-e3ef-45ef-afd3-ede04eece2ae",
   "metadata": {
    "tags": []
   },
   "outputs": [
    {
     "name": "stdout",
     "output_type": "stream",
     "text": [
      "Customer in the last row: Adyant\n"
     ]
    }
   ],
   "source": [
    "#4\n",
    "last_customer = purchase_df.iloc[-1]['customer']\n",
    "print(\"Customer in the last row:\", last_customer)\n"
   ]
  },
  {
   "cell_type": "code",
   "execution_count": 6,
   "id": "603adb31-a30a-4a4e-8a1d-845e023b398d",
   "metadata": {
    "tags": []
   },
   "outputs": [
    {
     "name": "stdout",
     "output_type": "stream",
     "text": [
      "  customer          p_item       city\n",
      "0   Neethu        Mac_book    Chennai\n",
      "1   Jeevan      Hp-Envy360      Delhi\n",
      "2    Harsh   Dell_inspiron     Mumbai\n",
      "3   Adyant  Samsung_Galaxy  Hyderabad\n"
     ]
    }
   ],
   "source": [
    "#5\n",
    "reordered_purchase_df = purchase_df[['customer', 'p_item', 'city']]\n",
    "print(reordered_purchase_df)\n"
   ]
  },
  {
   "cell_type": "code",
   "execution_count": 9,
   "id": "c97d7bfa-fc9d-4679-81c5-197400fc9436",
   "metadata": {
    "tags": []
   },
   "outputs": [
    {
     "name": "stdout",
     "output_type": "stream",
     "text": [
      "COLUMN : \n",
      "\n",
      " Name\n"
     ]
    }
   ],
   "source": [
    "#6\n",
    "columns = df.columns[0]\n",
    "print(\"COLUMN : \\n\\n\",columns)"
   ]
  },
  {
   "cell_type": "code",
   "execution_count": null,
   "id": "51c79d72-9246-4669-94fc-cb036155d9a7",
   "metadata": {},
   "outputs": [],
   "source": [
    "#URK22AI1030 \n",
    "\n",
    "#Question:\n",
    "    #7. Find the maximum value in a KM column and the minimum value in the weight column.\n",
    "    #8. Find the mean and median of CC column\n",
    "    #9. Update the price of the first 20 values with CC 2000 with the new column name;Horse Power’, Horse Power = HP*2\n",
    "    #10. Filter the Metcolor value is 1.\n",
    "    \n",
    "#AIM: \n",
    "    #Exploratory Data Analysis with DataFrame Operations\n",
    "    \n",
    "#Description:\n",
    "    #7- Extreme Values Analysis:\n",
    "        #Identify and report the maximum value in the 'KM' column and the minimum value in the 'Weight' column.\n",
    "    #8- Central Tendency Analysis:\n",
    "        #Calculate the mean and median of the 'CC' column to understand its central tendency.\n",
    "    #9- Column Update:\n",
    "        #Update the price values of the first 20 rows where 'CC' is 2000, introducing a new column 'Horse Power' computed as HP*2.\n",
    "    #10- Data Filtering:\n",
    "        #Filter the DataFrame to include only rows where the 'Metcolor' value is 1, providing insights into a specific subset of the data."
   ]
  },
  {
   "cell_type": "code",
   "execution_count": 4,
   "id": "2a47fd76-dd1f-4db4-b549-f86e4869da86",
   "metadata": {
    "tags": []
   },
   "outputs": [],
   "source": [
    "import pandas as pd"
   ]
  },
  {
   "cell_type": "code",
   "execution_count": 17,
   "id": "6cd02fd2-8948-4cd6-9ead-ea9820f46d11",
   "metadata": {
    "tags": []
   },
   "outputs": [],
   "source": [
    "df = pd.read_csv(\"Toyota.csv\")"
   ]
  },
  {
   "cell_type": "code",
   "execution_count": 18,
   "id": "0ee07dcb-8cb9-408d-b6b4-9afebe961974",
   "metadata": {
    "tags": []
   },
   "outputs": [
    {
     "name": "stdout",
     "output_type": "stream",
     "text": [
      "Max KM: 243000\n",
      "Min Weight: 1015\n"
     ]
    }
   ],
   "source": [
    "#7\n",
    "max_km = df['KM'].max()\n",
    "min_weight = df['Weight'].min()\n",
    "print(\"Max KM:\", max_km)\n",
    "print(\"Min Weight:\", min_weight)\n"
   ]
  },
  {
   "cell_type": "code",
   "execution_count": 19,
   "id": "56f58715-0b13-419f-a3ea-3ba25e978ccb",
   "metadata": {
    "tags": []
   },
   "outputs": [
    {
     "name": "stdout",
     "output_type": "stream",
     "text": [
      "Mean CC: 1610.3587174348697\n",
      "Median CC: 1600.0\n"
     ]
    }
   ],
   "source": [
    "#8\n",
    "mean_cc = df['CC'].mean()\n",
    "median_cc = df['CC'].median()\n",
    "print(\"Mean CC:\", mean_cc)\n",
    "print(\"Median CC:\", median_cc)\n"
   ]
  },
  {
   "cell_type": "code",
   "execution_count": 26,
   "id": "9a196a1f-b2cc-42c7-86cc-be1af02dd453",
   "metadata": {
    "tags": []
   },
   "outputs": [
    {
     "name": "stdout",
     "output_type": "stream",
     "text": [
      "    Price  Age     KM FuelType   HP  MetColor  Automatic    CC  Doors  Weight  \\\n",
      "0   54000   23  46986   Diesel   90         1          0  2000      3    1165   \n",
      "1   55000   23  72937   Diesel   90         1          0  2000      3    1165   \n",
      "2   55800   24  41711   Diesel   90         1          0  2000      3    1165   \n",
      "3   59800   26  48000   Diesel   90         0          0  2000      3    1165   \n",
      "4   55000   30  38500   Diesel   90         0          0  2000      3    1170   \n",
      "5   51800   32  61000   Diesel   90         0          0  2000      3    1170   \n",
      "6   67600   27  94612   Diesel   90         1          0  2000      3    1245   \n",
      "7   74400   30  75889   Diesel   90         1          0  2000      3    1245   \n",
      "8   21500   27  19700   Petrol  192         0          0  1800      3    1185   \n",
      "9   12950   23  71138   Diesel   69         0          0  1900      3    1105   \n",
      "10  20950   25  31461   Petrol  192         0          0  1800      3    1185   \n",
      "11  19950   22  43610   Petrol  192         0          0  1800      3    1185   \n",
      "12  19600   25  32189   Petrol  192         0          0  1800      3    1185   \n",
      "13  21500   31  23000   Petrol  192         1          0  1800      3    1185   \n",
      "14  22500   32  34131   Petrol  192         1          0  1800      3    1185   \n",
      "15  22000   28  18739   Petrol  192         0          0  1800      3    1185   \n",
      "16  22750   30  34000   Petrol  192         1          0  1800      3    1185   \n",
      "17  17950   24  21716   Petrol  110         1          0  1600      3    1105   \n",
      "18  16750   24  25563   Petrol  110         0          0  1600      3    1065   \n",
      "19  16950   30  64359   Petrol  110         1          0  1600      3    1105   \n",
      "\n",
      "    Horse Power  \n",
      "0           180  \n",
      "1           180  \n",
      "2           180  \n",
      "3           180  \n",
      "4           180  \n",
      "5           180  \n",
      "6           180  \n",
      "7           180  \n",
      "8           384  \n",
      "9           138  \n",
      "10          384  \n",
      "11          384  \n",
      "12          384  \n",
      "13          384  \n",
      "14          384  \n",
      "15          384  \n",
      "16          384  \n",
      "17          220  \n",
      "18          220  \n",
      "19          220  \n"
     ]
    }
   ],
   "source": [
    "#9\n",
    "data.loc[data['CC'] == 2000, 'Price'] *= 2\n",
    "data['Horse Power'] = data['HP'] * 2\n",
    "\n",
    "print(data.head(20))"
   ]
  },
  {
   "cell_type": "code",
   "execution_count": 32,
   "id": "5d4e01aa-e76c-4925-ad5d-ac08cfe30fb5",
   "metadata": {
    "tags": []
   },
   "outputs": [
    {
     "name": "stdout",
     "output_type": "stream",
     "text": [
      "     Price  Age     KM FuelType   HP  MetColor  Automatic    CC  Doors  \\\n",
      "0    54000   23  46986   Diesel   90         1          0  2000      3   \n",
      "1    55000   23  72937   Diesel   90         1          0  2000      3   \n",
      "2    55800   24  41711   Diesel   90         1          0  2000      3   \n",
      "6    67600   27  94612   Diesel   90         1          0  2000      3   \n",
      "7    74400   30  75889   Diesel   90         1          0  2000      3   \n",
      "..     ...  ...    ...      ...  ...       ...        ...   ...    ...   \n",
      "492   9799   51  59000   Petrol   97         1          0  1400      3   \n",
      "494  11950   54  58745   Petrol  110         1          0  1600      4   \n",
      "495  11250   52  58596   Petrol  110         1          0  1600      3   \n",
      "497  10950   55  58377   Petrol  110         1          0  1600      3   \n",
      "498  11250   56  58142   Petrol  110         1          0  1600      5   \n",
      "\n",
      "     Weight  Horse Power  \n",
      "0      1165          180  \n",
      "1      1165          180  \n",
      "2      1165          180  \n",
      "6      1245          180  \n",
      "7      1245          180  \n",
      "..      ...          ...  \n",
      "492    1025          194  \n",
      "494    1035          220  \n",
      "495    1045          220  \n",
      "497    1050          220  \n",
      "498    1080          220  \n",
      "\n",
      "[372 rows x 11 columns]\n"
     ]
    }
   ],
   "source": [
    "#10\n",
    "filtered_df = data[data['MetColor'] == 1]\n",
    "print(filtered_df)\n"
   ]
  },
  {
   "cell_type": "code",
   "execution_count": 5,
   "id": "c5b5981b-3f2f-4409-b248-65b19db3eaa0",
   "metadata": {
    "tags": []
   },
   "outputs": [],
   "source": [
    "#Question:\n",
    "    #11. Display the first 50 Price, Age, and CC such that age in ascending order\n",
    "    #12. Group the data frame by Fuel Type and Metcolor.\n",
    "    #13. Count the null values in the data frame and fill the null values in CC column by ‘25’\n",
    "    #14. Append 3 new rows in the data frame and display it\n",
    "    #15. Drop the HP column in the data frame and display it\n",
    "    #16. Drop the 50 th and 100 th row in the data frame\n",
    "    #17. Display the price, KM and HP of first 100 values with &#39;CC&#39; greater than 1600\n",
    "    #18. Select data from particular row and column using loc and iloc."
   ]
  },
  {
   "cell_type": "code",
   "execution_count": 4,
   "id": "77eb22e2-ae5b-497e-8a1f-d936f393a0a3",
   "metadata": {
    "tags": []
   },
   "outputs": [],
   "source": [
    "#URK22AI1030\n",
    "#AIM: \n",
    "    #Advanced DataFrame Operations\n",
    "\n",
    "#Description:\n",
    "    #11- Display Sorted Subset:\n",
    "        #Display the first 50 rows of 'Price,' 'Age,' and 'CC,' sorted by 'Age' in ascending order.\n",
    "    #12- Data Grouping:\n",
    "        #Group the DataFrame based on 'Fuel Type' and 'Metcolor,' providing a structured view of the data.\n",
    "    #13- Handling Missing Values:\n",
    "        #Count null values in the DataFrame, and fill null values in the 'CC' column with '25.'\n",
    "    #14- Appending New Rows:\n",
    "        #Append three new rows to the DataFrame and display the updated structure.\n",
    "    #15- Column Removal:\n",
    "        #Drop the 'HP' column from the DataFrame and display the modified structure.\n",
    "    #16- Row Deletion:\n",
    "        #Drop the 50th and 100th rows from the DataFrame and display the updated data.\n",
    "    #17- Conditional Subset Display:\n",
    "        #Display 'Price,' 'KM,' and 'HP' for the first 100 rows where 'CC' is greater than 1600.\n",
    "    #18- Selective Data Retrieval:\n",
    "        #Utilize 'loc' and 'iloc' to selectively retrieve data from a specific row and column in the DataFrame."
   ]
  },
  {
   "cell_type": "code",
   "execution_count": 45,
   "id": "1ceb736b-54f2-4bd8-853a-0d4ef103349c",
   "metadata": {
    "tags": []
   },
   "outputs": [
    {
     "name": "stdout",
     "output_type": "stream",
     "text": [
      "      Price  Age    CC\n",
      "185   18245    1  1600\n",
      "184   17795    1  1400\n",
      "183   21500    2  1600\n",
      "182   21125    2  1400\n",
      "110  124000    4  2000\n",
      "111  125100    4  2000\n",
      "109  130000    4  2000\n",
      "179   22500    6  1600\n",
      "177   19950    7  1600\n",
      "114   91800    7  2000\n",
      "117   17900    7  1600\n",
      "181   18700    7  1400\n",
      "180   18500    7  1600\n",
      "113   99800    8  2000\n",
      "115   99960    8  2000\n",
      "116   87800    8  2000\n",
      "172   19500    8  1400\n",
      "112   99800    8  2000\n",
      "173   18950    8  1400\n",
      "174   21950    8  1600\n",
      "175   19950    8  1600\n",
      "176   18950    8  1600\n",
      "178   21950    8  1600\n",
      "171   23750    8  1600\n",
      "162   19600    9  1600\n",
      "170   18245    9  1600\n",
      "169   17795    9  1400\n",
      "152   18450   10  1400\n",
      "157   18900   11  1600\n",
      "98    18750   11  1600\n",
      "138   92000   11  2000\n",
      "164   17650   11  1400\n",
      "104   19450   11  1600\n",
      "103   18500   11  1600\n",
      "168   20500   12  1600\n",
      "153   19500   12  1600\n",
      "142   19950   13  1600\n",
      "137   16250   13  1600\n",
      "133   15950   13  1600\n",
      "129   15850   13  1600\n",
      "120   18950   13  1600\n",
      "102   18500   13  1400\n",
      "147   24500   13  1600\n",
      "154   21750   13  1600\n",
      "122   16350   14  1600\n",
      "106   18800   14  1600\n",
      "166   19950   14  1600\n",
      "149   20950   14  1600\n",
      "165   19950   14  1600\n",
      "163   19500   14  1600\n"
     ]
    }
   ],
   "source": [
    "#11\n",
    "data['Age'] = pd.to_numeric(data['Age'], errors='coerce')\n",
    "\n",
    "result_df = data[['Price', 'Age', 'CC']].sort_values(by='Age').head(50)\n",
    "print(result_df)\n"
   ]
  },
  {
   "cell_type": "code",
   "execution_count": 47,
   "id": "d5cb29ac-4f48-490b-8a88-7c4a78904bcd",
   "metadata": {
    "tags": []
   },
   "outputs": [],
   "source": [
    "#12\n",
    "grouped_df = data.groupby(['FuelType', 'MetColor'])"
   ]
  },
  {
   "cell_type": "code",
   "execution_count": 48,
   "id": "8e0ac8bb-7953-455a-a68b-393f0b3823bd",
   "metadata": {
    "tags": []
   },
   "outputs": [],
   "source": [
    "#13\n",
    "null_count = df.isnull().sum().sum()\n",
    "df['CC'].fillna(25, inplace=True)\n"
   ]
  },
  {
   "cell_type": "code",
   "execution_count": 50,
   "id": "0daaa154-524b-4356-b8cb-47c7ee5af3bc",
   "metadata": {
    "tags": []
   },
   "outputs": [
    {
     "name": "stdout",
     "output_type": "stream",
     "text": [
      "     Price  Age  KM FuelType  MetColor  Automatic    CC  Doors  Weight\n",
      "501  20000    5 NaN      NaN       NaN        NaN  2200    NaN     NaN\n",
      "502  12000    2 NaN      NaN       NaN        NaN  1600    NaN     NaN\n",
      "503  15000    3 NaN      NaN       NaN        NaN  1800    NaN     NaN\n",
      "504  20000    5 NaN      NaN       NaN        NaN  2200    NaN     NaN\n",
      "505  12000    2 NaN      NaN       NaN        NaN  1600    NaN     NaN\n"
     ]
    },
    {
     "name": "stderr",
     "output_type": "stream",
     "text": [
      "/tmp/ipykernel_1330901/3238083471.py:2: FutureWarning: The frame.append method is deprecated and will be removed from pandas in a future version. Use pandas.concat instead.\n",
      "  df = df.append(new_rows, ignore_index=True)\n"
     ]
    }
   ],
   "source": [
    "#14\n",
    "new_rows = [{'Price': 15000, 'Age': 3, 'CC': 1800}, {'Price': 20000, 'Age': 5, 'CC': 2200}, {'Price': 12000, 'Age': 2, 'CC': 1600}]\n",
    "df = df.append(new_rows, ignore_index=True)\n",
    "print(df.tail())\n"
   ]
  },
  {
   "cell_type": "code",
   "execution_count": null,
   "id": "5d188d10-90e0-4d6b-abd1-453cf790b895",
   "metadata": {
    "tags": []
   },
   "outputs": [],
   "source": []
  },
  {
   "cell_type": "code",
   "execution_count": 53,
   "id": "446d2689-cfde-4738-bd82-5e849003063c",
   "metadata": {
    "tags": []
   },
   "outputs": [
    {
     "name": "stdout",
     "output_type": "stream",
     "text": [
      "     Price  Age     KM FuelType  MetColor  Automatic    CC  Doors  Weight  \\\n",
      "0    54000   23  46986   Diesel         1          0  2000      3    1165   \n",
      "1    55000   23  72937   Diesel         1          0  2000      3    1165   \n",
      "2    55800   24  41711   Diesel         1          0  2000      3    1165   \n",
      "3    59800   26  48000   Diesel         0          0  2000      3    1165   \n",
      "4    55000   30  38500   Diesel         0          0  2000      3    1170   \n",
      "..     ...  ...    ...      ...       ...        ...   ...    ...     ...   \n",
      "494  11950   54  58745   Petrol         1          0  1600      4    1035   \n",
      "495  11250   52  58596   Petrol         1          0  1600      3    1045   \n",
      "496  11750   54  58530   Petrol         0          0  1600      5    1075   \n",
      "497  10950   55  58377   Petrol         1          0  1600      3    1050   \n",
      "498  11250   56  58142   Petrol         1          0  1600      5    1080   \n",
      "\n",
      "     Horse Power  \n",
      "0            180  \n",
      "1            180  \n",
      "2            180  \n",
      "3            180  \n",
      "4            180  \n",
      "..           ...  \n",
      "494          220  \n",
      "495          220  \n",
      "496          220  \n",
      "497          220  \n",
      "498          220  \n",
      "\n",
      "[499 rows x 10 columns]\n"
     ]
    }
   ],
   "source": [
    "#15\n",
    "data.drop(columns=['HP'], inplace=True)\n",
    "print(data)"
   ]
  },
  {
   "cell_type": "code",
   "execution_count": 55,
   "id": "6ef75d4c-49d5-43e4-a8af-041c1ff532ce",
   "metadata": {
    "tags": []
   },
   "outputs": [
    {
     "name": "stdout",
     "output_type": "stream",
     "text": [
      "     Price  Age     KM FuelType  MetColor  Automatic    CC  Doors  Weight  \\\n",
      "0    54000   23  46986   Diesel         1          0  2000      3    1165   \n",
      "1    55000   23  72937   Diesel         1          0  2000      3    1165   \n",
      "2    55800   24  41711   Diesel         1          0  2000      3    1165   \n",
      "3    59800   26  48000   Diesel         0          0  2000      3    1165   \n",
      "4    55000   30  38500   Diesel         0          0  2000      3    1170   \n",
      "..     ...  ...    ...      ...       ...        ...   ...    ...     ...   \n",
      "494  11950   54  58745   Petrol         1          0  1600      4    1035   \n",
      "495  11250   52  58596   Petrol         1          0  1600      3    1045   \n",
      "496  11750   54  58530   Petrol         0          0  1600      5    1075   \n",
      "497  10950   55  58377   Petrol         1          0  1600      3    1050   \n",
      "498  11250   56  58142   Petrol         1          0  1600      5    1080   \n",
      "\n",
      "     Horse Power  \n",
      "0            180  \n",
      "1            180  \n",
      "2            180  \n",
      "3            180  \n",
      "4            180  \n",
      "..           ...  \n",
      "494          220  \n",
      "495          220  \n",
      "496          220  \n",
      "497          220  \n",
      "498          220  \n",
      "\n",
      "[497 rows x 10 columns]\n"
     ]
    }
   ],
   "source": [
    "#16\n",
    "data.drop([49, 99], inplace=True)\n",
    "print(data)"
   ]
  },
  {
   "cell_type": "code",
   "execution_count": 100,
   "id": "f552514a-bdfb-4956-88cf-aa5a0b4b72ef",
   "metadata": {
    "tags": []
   },
   "outputs": [
    {
     "name": "stdout",
     "output_type": "stream",
     "text": [
      "     PRICE     KM\n",
      "0    54000  46986\n",
      "1    55000  72937\n",
      "2    55800  41711\n",
      "3    59800  48000\n",
      "4    55000  38500\n",
      "..     ...    ...\n",
      "458   8695  70440\n",
      "463   8750  69000\n",
      "465  45800  68520\n",
      "480  11500  63000\n",
      "487  35800  61000\n",
      "\n",
      "[91 rows x 2 columns]\n"
     ]
    }
   ],
   "source": [
    "#17\n",
    "result_df = data[data['CC'] > 1600][['PRICE', 'KM',]].head(100)\n",
    "print(result_df)"
   ]
  },
  {
   "cell_type": "code",
   "execution_count": 84,
   "id": "2f5aad5a-3bf6-4f37-bbab-c4d31f4485dd",
   "metadata": {
    "tags": []
   },
   "outputs": [
    {
     "name": "stdout",
     "output_type": "stream",
     "text": [
      "Using loc: 51800\n",
      "Using iloc: 51800\n"
     ]
    }
   ],
   "source": [
    "#18\n",
    "selected_data_loc = data.loc[5, 'PRICE']  \n",
    "selected_data_iloc = data.iloc[5, 0] \n",
    "\n",
    "print(\"Using loc:\", selected_data_loc)\n",
    "print(\"Using iloc:\", selected_data_iloc)"
   ]
  },
  {
   "cell_type": "code",
   "execution_count": 6,
   "id": "3d10edcc-43f3-4cf9-b806-e94e17e2d524",
   "metadata": {
    "tags": []
   },
   "outputs": [],
   "source": [
    "#URK22AI1030\n",
    "\n",
    "#Question:\n",
    "    #19. Demonstrate the use of index, column, describe, size, ndim, shape, info.\n",
    "    \n",
    "#AIM: \n",
    "    #Exploring DataFrame Properties and Information\n",
    "#Description:\n",
    "    #19- DataFrame Exploration:\n",
    "    #Demonstrate various DataFrame properties and methods:\n",
    "    #Index: Understand and display the index of the DataFrame.\n",
    "    #Columns: Explore and display the column names of the DataFrame.\n",
    "    #Describe: Provide summary statistics of the numerical columns in the DataFrame.\n",
    "    #Size: Determine and display the total number of elements in the DataFrame.\n",
    "    #ndim: Identify and display the number of dimensions in the DataFrame.\n",
    "    #Shape: Obtain and display the shape of the DataFrame.\n",
    "    #Info: Retrieve information about the DataFrame, including data types, non-null counts, and memory usage."
   ]
  },
  {
   "cell_type": "code",
   "execution_count": 94,
   "id": "17ea8986-7589-4ecc-b47d-3d4c9c94cc06",
   "metadata": {
    "tags": []
   },
   "outputs": [
    {
     "name": "stdout",
     "output_type": "stream",
     "text": [
      "-----------------------------------------------------------------------\n",
      "INDEX : \n",
      "\n",
      " Int64Index([  0,   1,   2,   3,   4,   5,   6,   7,   8,   9,\n",
      "            ...\n",
      "            496, 497, 498, 499, 500, 501, 502, 503, 504, 505],\n",
      "           dtype='int64', length=504)\n",
      "-----------------------------------------------------------------------\n",
      "COLUMN : \n",
      "\n",
      " Index(['Price', 'Age', 'KM', 'FuelType', 'MetColor', 'Automatic', 'CC',\n",
      "       'Doors', 'Weight'],\n",
      "      dtype='object')\n",
      "-----------------------------------------------------------------------\n",
      "DESCRIPTION :\n",
      "\n",
      "               Price         Age             KM    MetColor   Automatic  \\\n",
      "count    504.000000  504.000000     495.000000  495.000000  495.000000   \n",
      "mean   14066.152778   34.656746   53322.545455    0.743434    0.044444   \n",
      "std     4045.613633   14.331742   37051.093275    0.437179    0.206289   \n",
      "min     4350.000000    1.000000       1.000000    0.000000    0.000000   \n",
      "25%    11450.000000   24.000000   28000.000000    0.000000    0.000000   \n",
      "50%    12950.000000   38.000000   45725.000000    1.000000    0.000000   \n",
      "75%    16537.500000   44.000000   71896.500000    1.000000    0.000000   \n",
      "max    32500.000000   56.000000  243000.000000    1.000000    1.000000   \n",
      "\n",
      "                CC       Doors       Weight  \n",
      "count   504.000000  495.000000   495.000000  \n",
      "mean   1614.621032    4.238384  1099.135354  \n",
      "std     183.976901    0.932836    66.589989  \n",
      "min    1300.000000    3.000000  1015.000000  \n",
      "25%    1595.250000    3.000000  1060.000000  \n",
      "50%    1600.000000    5.000000  1080.000000  \n",
      "75%    1600.000000    5.000000  1117.000000  \n",
      "max    2200.000000    5.000000  1615.000000  \n",
      "-----------------------------------------------------------------------\n",
      "SIZE : \n",
      "\n",
      " 4536\n",
      "-----------------------------------------------------------------------\n",
      "DIMENSION : \n",
      "\n",
      " 2\n",
      "-----------------------------------------------------------------------\n",
      "SHAPE : \n",
      "\n",
      " (504, 9)\n",
      "-----------------------------------------------------------------------\n",
      "<class 'pandas.core.frame.DataFrame'>\n",
      "Int64Index: 504 entries, 0 to 505\n",
      "Data columns (total 9 columns):\n",
      " #   Column     Non-Null Count  Dtype  \n",
      "---  ------     --------------  -----  \n",
      " 0   Price      504 non-null    int64  \n",
      " 1   Age        504 non-null    int64  \n",
      " 2   KM         495 non-null    float64\n",
      " 3   FuelType   495 non-null    object \n",
      " 4   MetColor   495 non-null    float64\n",
      " 5   Automatic  495 non-null    float64\n",
      " 6   CC         504 non-null    int64  \n",
      " 7   Doors      495 non-null    float64\n",
      " 8   Weight     495 non-null    float64\n",
      "dtypes: float64(5), int64(3), object(1)\n",
      "memory usage: 55.5+ KB\n",
      "INFORMATION: \n",
      "\n",
      " None\n",
      "------------------------------------------------------------------------\n"
     ]
    }
   ],
   "source": [
    "#19\n",
    "print(\"-----------------------------------------------------------------------\")\n",
    "index = df.index\n",
    "print(\"INDEX : \\n\\n\",index)\n",
    "print(\"-----------------------------------------------------------------------\")\n",
    "columns = df.columns\n",
    "print(\"COLUMN : \\n\\n\",columns)\n",
    "print(\"-----------------------------------------------------------------------\")\n",
    "description = df.describe()\n",
    "print(\"DESCRIPTION :\\n\\n\",description)\n",
    "print(\"-----------------------------------------------------------------------\")\n",
    "size = df.size\n",
    "print(\"SIZE : \\n\\n\",size)\n",
    "print(\"-----------------------------------------------------------------------\")\n",
    "ndim = df.ndim\n",
    "print(\"DIMENSION : \\n\\n\",ndim)\n",
    "print(\"-----------------------------------------------------------------------\")\n",
    "shape = df.shape\n",
    "print(\"SHAPE : \\n\\n\",shape)\n",
    "print(\"-----------------------------------------------------------------------\")\n",
    "info = df.info()\n",
    "print(\"INFORMATION: \\n\\n\",info)\n",
    "print(\"------------------------------------------------------------------------\")"
   ]
  },
  {
   "cell_type": "code",
   "execution_count": null,
   "id": "1b214833-7ed6-4bd9-8f8b-4457d4d65497",
   "metadata": {},
   "outputs": [],
   "source": []
  }
 ],
 "metadata": {
  "kernelspec": {
   "display_name": "Python 3 (ipykernel)",
   "language": "python",
   "name": "python3"
  },
  "language_info": {
   "codemirror_mode": {
    "name": "ipython",
    "version": 3
   },
   "file_extension": ".py",
   "mimetype": "text/x-python",
   "name": "python",
   "nbconvert_exporter": "python",
   "pygments_lexer": "ipython3",
   "version": "3.11.5"
  }
 },
 "nbformat": 4,
 "nbformat_minor": 5
}
